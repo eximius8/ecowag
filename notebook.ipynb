{
 "cells": [
  {
   "cell_type": "code",
   "execution_count": null,
   "id": "88a876d4",
   "metadata": {},
   "outputs": [],
   "source": [
    "import os, sys\n",
    "from django.utils import timezone\n",
    "PWD = os.getenv('PWD')\n",
    "os.chdir(PWD)\n",
    "sys.path.insert(0, os.getenv('PWD'))\n",
    "os.environ.setdefault(\"DJANGO_SETTINGS_MODULE\", \"ecowag.settings.dev\")\n",
    "os.environ[\"DJANGO_ALLOW_ASYNC_UNSAFE\"] = \"true\"\n",
    "import django\n",
    "django.setup()"
   ]
  },
  {
   "cell_type": "code",
   "execution_count": null,
   "id": "085f86ab",
   "metadata": {},
   "outputs": [],
   "source": [
    "def func(*args):\n",
    "    \n",
    "    for arg in args:\n",
    "        print(arg)\n",
    "\n",
    "func(5,8,\"fsd\")"
   ]
  },
  {
   "cell_type": "code",
   "execution_count": null,
   "id": "89b566f4",
   "metadata": {},
   "outputs": [],
   "source": [
    "from substance.models import Substance\n",
    "from home.models import HomePage\n",
    "from blog.models import BlogIndexPage, BlogPage"
   ]
  },
  {
   "cell_type": "code",
   "execution_count": null,
   "id": "125c7af1",
   "metadata": {},
   "outputs": [],
   "source": [
    "home = HomePage.objects.first()\n",
    "blogindex = BlogIndexPage.objects.first()\n",
    "BlogPage.objects.all().delete()"
   ]
  },
  {
   "cell_type": "code",
   "execution_count": null,
   "id": "abdaadde",
   "metadata": {},
   "outputs": [],
   "source": [
    "for i in range(100):\n",
    "    news_page = BlogPage(\n",
    "        title=f\"{i} - good\",\n",
    "        live=True,\n",
    "        first_published_at=timezone.now()\n",
    "    )\n",
    "    blogindex.add_child(instance=news_page)\n",
    "    news_page.save()"
   ]
  },
  {
   "cell_type": "code",
   "execution_count": null,
   "id": "87baa79b",
   "metadata": {},
   "outputs": [],
   "source": [
    "for i in range(100):\n",
    "    news_page = Substance(\n",
    "        title=f\"{i} - good\",\n",
    "        live=True,\n",
    "    )\n",
    "    home.add_child(instance=news_page)\n",
    "    news_page.save()"
   ]
  },
  {
   "cell_type": "code",
   "execution_count": null,
   "id": "341c51c2",
   "metadata": {},
   "outputs": [],
   "source": [
    "xlor = Substance.objects.get(pk=4)"
   ]
  },
  {
   "cell_type": "code",
   "execution_count": null,
   "id": "5e51db4a",
   "metadata": {},
   "outputs": [],
   "source": [
    "xlor.complexBj(xlor.soilprops, ['ODKp', 'PDKp',])"
   ]
  },
  {
   "cell_type": "code",
   "execution_count": null,
   "id": "63d722d2",
   "metadata": {},
   "outputs": [],
   "source": [
    "asas = {}\n",
    "for prop in xlor.props:\n",
    "    print(f'{prop.block_type}: {prop.value[\"value\"]}')"
   ]
  },
  {
   "cell_type": "code",
   "execution_count": null,
   "id": "015ba4da",
   "metadata": {
    "scrolled": true
   },
   "outputs": [],
   "source": [
    "xlor.get_streams_as_dict()"
   ]
  },
  {
   "cell_type": "code",
   "execution_count": 2,
   "id": "ccb2ed79",
   "metadata": {},
   "outputs": [],
   "source": [
    "from pybtex.database import parse_string\n",
    "\n",
    "value = \"\"\"@article{wright2001complex,\n",
    "  title={Complex genetic diseases: controversy over the Croesus code},\n",
    "  author={Wright, Alan F and Hastie, Nicholas D},\n",
    "  journal={Genome biology},\n",
    "  volume={2},\n",
    "  number={8},\n",
    "  pages={1--9},\n",
    "  year={2001},\n",
    "  publisher={Springer}\n",
    "}\"\"\"\n",
    "\n",
    "articles = parse_string(value, \"bibtex\")\n",
    "wright = articles.entries['wright2001complex']"
   ]
  },
  {
   "cell_type": "code",
   "execution_count": 29,
   "id": "fd1bda14",
   "metadata": {},
   "outputs": [
    {
     "data": {
      "text/plain": [
       "1"
      ]
     },
     "execution_count": 29,
     "metadata": {},
     "output_type": "execute_result"
    }
   ],
   "source": [
    "len(entries)"
   ]
  },
  {
   "cell_type": "code",
   "execution_count": 13,
   "id": "e225d4aa",
   "metadata": {},
   "outputs": [
    {
     "data": {
      "text/plain": [
       "['_MutableMapping__marker',\n",
       " '__abstractmethods__',\n",
       " '__class__',\n",
       " '__contains__',\n",
       " '__delattr__',\n",
       " '__delitem__',\n",
       " '__dict__',\n",
       " '__dir__',\n",
       " '__doc__',\n",
       " '__eq__',\n",
       " '__format__',\n",
       " '__ge__',\n",
       " '__getattribute__',\n",
       " '__getitem__',\n",
       " '__gt__',\n",
       " '__hash__',\n",
       " '__init__',\n",
       " '__init_subclass__',\n",
       " '__iter__',\n",
       " '__le__',\n",
       " '__len__',\n",
       " '__lt__',\n",
       " '__module__',\n",
       " '__ne__',\n",
       " '__new__',\n",
       " '__reduce__',\n",
       " '__reduce_ex__',\n",
       " '__repr__',\n",
       " '__reversed__',\n",
       " '__setattr__',\n",
       " '__setitem__',\n",
       " '__sizeof__',\n",
       " '__slots__',\n",
       " '__str__',\n",
       " '__subclasshook__',\n",
       " '__weakref__',\n",
       " '_abc_impl',\n",
       " '_dict',\n",
       " '_keys',\n",
       " 'clear',\n",
       " 'get',\n",
       " 'items',\n",
       " 'items_lower',\n",
       " 'keys',\n",
       " 'lower',\n",
       " 'pop',\n",
       " 'popitem',\n",
       " 'setdefault',\n",
       " 'update',\n",
       " 'values']"
      ]
     },
     "execution_count": 13,
     "metadata": {},
     "output_type": "execute_result"
    }
   ],
   "source": [
    "entries = articles.entries\n",
    "dir(entries)"
   ]
  },
  {
   "cell_type": "code",
   "execution_count": 16,
   "id": "8c17430a",
   "metadata": {},
   "outputs": [
    {
     "data": {
      "text/plain": [
       "'wright2001complex'"
      ]
     },
     "execution_count": 16,
     "metadata": {},
     "output_type": "execute_result"
    }
   ],
   "source": [
    "next(iter(entries))"
   ]
  },
  {
   "cell_type": "code",
   "execution_count": 19,
   "id": "5e6c767d",
   "metadata": {},
   "outputs": [],
   "source": [
    "entries['wright2001complex']\n",
    "\n",
    "entries['new_key'] = entries.pop('wright2001complex')"
   ]
  },
  {
   "cell_type": "code",
   "execution_count": 20,
   "id": "9ad94a24",
   "metadata": {},
   "outputs": [
    {
     "data": {
      "text/plain": [
       "OrderedCaseInsensitiveDict([('new_key', Entry('article',\n",
       "  fields=[\n",
       "    ('title', 'Complex genetic diseases: controversy over the Croesus code'), \n",
       "    ('journal', 'Genome biology'), \n",
       "    ('volume', '2'), \n",
       "    ('number', '8'), \n",
       "    ('pages', '1--9'), \n",
       "    ('year', '2001'), \n",
       "    ('publisher', 'Springer')],\n",
       "  persons=OrderedCaseInsensitiveDict([('author', [Person('Wright, Alan F'), Person('Hastie, Nicholas D')])])))])"
      ]
     },
     "execution_count": 20,
     "metadata": {},
     "output_type": "execute_result"
    }
   ],
   "source": [
    "entries"
   ]
  },
  {
   "cell_type": "code",
   "execution_count": 26,
   "id": "069a8afe",
   "metadata": {},
   "outputs": [
    {
     "data": {
      "text/plain": [
       "Entry('article',\n",
       "  fields=[\n",
       "    ('title', 'Complex genetic diseases: controversy over the Croesus code'), \n",
       "    ('journal', 'Genome biology'), \n",
       "    ('volume', '2'), \n",
       "    ('number', '8'), \n",
       "    ('pages', '1--9'), \n",
       "    ('year', '2001'), \n",
       "    ('publisher', 'Springer')],\n",
       "  persons=OrderedCaseInsensitiveDict([('author', [Person('Wright, Alan F'), Person('Hastie, Nicholas D')])]))"
      ]
     },
     "execution_count": 26,
     "metadata": {},
     "output_type": "execute_result"
    }
   ],
   "source": [
    "entries['new_key'].key = 'new_key'"
   ]
  },
  {
   "cell_type": "code",
   "execution_count": 28,
   "id": "b8236ca8",
   "metadata": {},
   "outputs": [
    {
     "data": {
      "text/plain": [
       "'@article{new_key,\\n    author = \"Wright, Alan F and Hastie, Nicholas D\",\\n    title = \"Complex genetic diseases: controversy over the Croesus code\",\\n    journal = \"Genome biology\",\\n    volume = \"2\",\\n    number = \"8\",\\n    pages = \"1--9\",\\n    year = \"2001\",\\n    publisher = \"Springer\"\\n}\\n'"
      ]
     },
     "execution_count": 28,
     "metadata": {},
     "output_type": "execute_result"
    }
   ],
   "source": [
    "entries['new_key'].to_string('bibtex')"
   ]
  },
  {
   "cell_type": "code",
   "execution_count": 30,
   "id": "92e39921",
   "metadata": {},
   "outputs": [],
   "source": [
    "from num2words import num2words"
   ]
  },
  {
   "cell_type": "code",
   "execution_count": 39,
   "id": "e67edcdc",
   "metadata": {},
   "outputs": [
    {
     "data": {
      "text/plain": [
       "'fortyseventhousandninehundredandfiftyfour'"
      ]
     },
     "execution_count": 39,
     "metadata": {},
     "output_type": "execute_result"
    }
   ],
   "source": [
    "num2words(47954).replace(\",\", \"\").replace(\"-\", \"\").replace(\" \", \"\")"
   ]
  }
 ],
 "metadata": {
  "kernelspec": {
   "display_name": "Python 3 (ipykernel)",
   "language": "python",
   "name": "python3"
  },
  "language_info": {
   "codemirror_mode": {
    "name": "ipython",
    "version": 3
   },
   "file_extension": ".py",
   "mimetype": "text/x-python",
   "name": "python",
   "nbconvert_exporter": "python",
   "pygments_lexer": "ipython3",
   "version": "3.8.10"
  }
 },
 "nbformat": 4,
 "nbformat_minor": 5
}
