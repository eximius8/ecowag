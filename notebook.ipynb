{
 "cells": [
  {
   "cell_type": "code",
   "execution_count": 1,
   "id": "88a876d4",
   "metadata": {},
   "outputs": [],
   "source": [
    "import os, sys\n",
    "from django.utils import timezone\n",
    "PWD = os.getenv('PWD')\n",
    "os.chdir(PWD)\n",
    "sys.path.insert(0, os.getenv('PWD'))\n",
    "os.environ.setdefault(\"DJANGO_SETTINGS_MODULE\", \"ecowag.settings.dev\")\n",
    "os.environ[\"DJANGO_ALLOW_ASYNC_UNSAFE\"] = \"true\"\n",
    "import django\n",
    "django.setup()"
   ]
  },
  {
   "cell_type": "code",
   "execution_count": null,
   "id": "085f86ab",
   "metadata": {},
   "outputs": [],
   "source": [
    "def func(*args):\n",
    "    \n",
    "    for arg in args:\n",
    "        print(arg)\n",
    "\n",
    "func(5,8,\"fsd\")"
   ]
  },
  {
   "cell_type": "code",
   "execution_count": 2,
   "id": "89b566f4",
   "metadata": {},
   "outputs": [],
   "source": [
    "from substance.models import Substance\n",
    "from home.models import HomePage\n",
    "from blog.models import BlogIndexPage, BlogPage"
   ]
  },
  {
   "cell_type": "code",
   "execution_count": 3,
   "id": "125c7af1",
   "metadata": {},
   "outputs": [],
   "source": [
    "home = HomePage.objects.first()\n",
    "blogindex = BlogIndexPage.objects.first()\n",
    "BlogPage.objects.all().delete()"
   ]
  },
  {
   "cell_type": "code",
   "execution_count": 4,
   "id": "abdaadde",
   "metadata": {},
   "outputs": [],
   "source": [
    "for i in range(100):\n",
    "    news_page = BlogPage(\n",
    "        title=f\"{i} - good\",\n",
    "        live=True,\n",
    "        first_published_at=timezone.now()\n",
    "    )\n",
    "    blogindex.add_child(instance=news_page)\n",
    "    news_page.save()"
   ]
  },
  {
   "cell_type": "code",
   "execution_count": null,
   "id": "87baa79b",
   "metadata": {},
   "outputs": [],
   "source": [
    "for i in range(100):\n",
    "    news_page = Substance(\n",
    "        title=f\"{i} - good\",\n",
    "        live=True,\n",
    "    )\n",
    "    home.add_child(instance=news_page)\n",
    "    news_page.save()"
   ]
  },
  {
   "cell_type": "code",
   "execution_count": null,
   "id": "341c51c2",
   "metadata": {},
   "outputs": [],
   "source": [
    "xlor = Substance.objects.get(pk=4)"
   ]
  },
  {
   "cell_type": "code",
   "execution_count": null,
   "id": "5e51db4a",
   "metadata": {},
   "outputs": [],
   "source": [
    "xlor.complexBj(xlor.soilprops, ['ODKp', 'PDKp',])"
   ]
  },
  {
   "cell_type": "code",
   "execution_count": null,
   "id": "63d722d2",
   "metadata": {},
   "outputs": [],
   "source": [
    "asas = {}\n",
    "for prop in xlor.props:\n",
    "    print(f'{prop.block_type}: {prop.value[\"value\"]}')"
   ]
  },
  {
   "cell_type": "code",
   "execution_count": null,
   "id": "015ba4da",
   "metadata": {
    "scrolled": true
   },
   "outputs": [],
   "source": [
    "xlor.get_streams_as_dict()"
   ]
  }
 ],
 "metadata": {
  "kernelspec": {
   "display_name": "Python 3 (ipykernel)",
   "language": "python",
   "name": "python3"
  },
  "language_info": {
   "codemirror_mode": {
    "name": "ipython",
    "version": 3
   },
   "file_extension": ".py",
   "mimetype": "text/x-python",
   "name": "python",
   "nbconvert_exporter": "python",
   "pygments_lexer": "ipython3",
   "version": "3.8.10"
  }
 },
 "nbformat": 4,
 "nbformat_minor": 5
}
