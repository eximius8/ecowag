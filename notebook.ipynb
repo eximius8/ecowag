{
 "cells": [
  {
   "cell_type": "code",
   "execution_count": 1,
   "id": "88a876d4",
   "metadata": {},
   "outputs": [],
   "source": [
    "import os, sys\n",
    "PWD = os.getenv('PWD')\n",
    "os.chdir(PWD)\n",
    "sys.path.insert(0, os.getenv('PWD'))\n",
    "os.environ.setdefault(\"DJANGO_SETTINGS_MODULE\", \"ecowag.settings.dev\")\n",
    "os.environ[\"DJANGO_ALLOW_ASYNC_UNSAFE\"] = \"true\"\n",
    "import django\n",
    "django.setup()"
   ]
  },
  {
   "cell_type": "code",
   "execution_count": 2,
   "id": "89b566f4",
   "metadata": {},
   "outputs": [],
   "source": [
    "from substance.models import Substance"
   ]
  },
  {
   "cell_type": "code",
   "execution_count": 3,
   "id": "341c51c2",
   "metadata": {},
   "outputs": [],
   "source": [
    "xlor = Substance.objects.get(pk=4)"
   ]
  },
  {
   "cell_type": "code",
   "execution_count": 4,
   "id": "5e51db4a",
   "metadata": {},
   "outputs": [
    {
     "data": {
      "text/plain": [
       "0"
      ]
     },
     "execution_count": 4,
     "metadata": {},
     "output_type": "execute_result"
    }
   ],
   "source": [
    "xlor.complexBj(xlor.soilprops, ['ODKp', 'PDKp',])"
   ]
  },
  {
   "cell_type": "code",
   "execution_count": 5,
   "id": "63d722d2",
   "metadata": {},
   "outputs": [
    {
     "name": "stdout",
     "output_type": "stream",
     "text": [
      "Kow: 756.0\n",
      "Solubility: 798.0\n",
      "COD: 765.0\n",
      "BOD5: 756.0\n",
      "Cnas: 756.0\n"
     ]
    }
   ],
   "source": [
    "asas = {}\n",
    "for prop in xlor.props:\n",
    "    print(f'{prop.block_type}: {prop.value[\"value\"]}')"
   ]
  },
  {
   "cell_type": "code",
   "execution_count": 6,
   "id": "015ba4da",
   "metadata": {},
   "outputs": [
    {
     "data": {
      "text/plain": [
       "{'SafetyClassDrinkWater': '1',\n",
       " 'PDKw': 423.0,\n",
       " 'ODUw': 423.0,\n",
       " 'OBUVw': 423.0,\n",
       " 'SafetyClassFishWater': '1',\n",
       " 'PDKfw': 423.0,\n",
       " 'OBUVfw': 423.0,\n",
       " 'SafetyClassAir': '1',\n",
       " 'PDKss': 423.0,\n",
       " 'PDKmr': 423.0,\n",
       " 'PDKrz': 423.0,\n",
       " 'OBUVair': 423.0,\n",
       " 'LD50': 423.0,\n",
       " 'LC50': 32.0,\n",
       " 'LC50water': 675.0,\n",
       " 'PDKpp': 765.0,\n",
       " 'MDS': 756.0,\n",
       " 'MDU': 756.0,\n",
       " 'Kow': 756.0,\n",
       " 'Solubility': 798.0,\n",
       " 'COD': 765.0,\n",
       " 'BOD5': 756.0,\n",
       " 'Cnas': 756.0,\n",
       " 'Persistancy': '1',\n",
       " 'Bioaccum': '2'}"
      ]
     },
     "execution_count": 6,
     "metadata": {},
     "output_type": "execute_result"
    }
   ],
   "source": [
    "xlor.get_streams_as_dict()"
   ]
  }
 ],
 "metadata": {
  "kernelspec": {
   "display_name": "Django Shell-Plus",
   "language": "python",
   "name": "django_extensions"
  },
  "language_info": {
   "codemirror_mode": {
    "name": "ipython",
    "version": 3
   },
   "file_extension": ".py",
   "mimetype": "text/x-python",
   "name": "python",
   "nbconvert_exporter": "python",
   "pygments_lexer": "ipython3",
   "version": "3.8.10"
  }
 },
 "nbformat": 4,
 "nbformat_minor": 5
}
